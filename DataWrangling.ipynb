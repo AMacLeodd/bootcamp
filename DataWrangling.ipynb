{
 "cells": [
  {
   "cell_type": "code",
   "execution_count": 2,
   "metadata": {},
   "outputs": [
    {
     "name": "stdout",
     "output_type": "stream",
     "text": [
      "Hello, world.\n"
     ]
    }
   ],
   "source": [
    "import numpy as np\n",
    "\n",
    "hello = 'Hello, world.'\n",
    "print(hello)"
   ]
  },
  {
   "cell_type": "code",
   "execution_count": 3,
   "metadata": {},
   "outputs": [
    {
     "name": "stdout",
     "output_type": "stream",
     "text": [
      "[1 2 3]\n"
     ]
    }
   ],
   "source": [
    "# one-dimensional array\n",
    "arr1 = np.array([1, 2, 3])\n",
    "print (arr1)"
   ]
  },
  {
   "cell_type": "code",
   "execution_count": 12,
   "metadata": {},
   "outputs": [
    {
     "name": "stdout",
     "output_type": "stream",
     "text": [
      "[[1 2]\n",
      " [3 4]]\n"
     ]
    }
   ],
   "source": [
    "# two-dimensional array\n",
    "arr2 = np.array([[1, 2], [3, 4]])\n",
    "print(arr2)"
   ]
  },
  {
   "cell_type": "code",
   "execution_count": 18,
   "metadata": {},
   "outputs": [
    {
     "name": "stdout",
     "output_type": "stream",
     "text": [
      "[[[1 2 3 4 5 6]]]\n",
      "[[[1. 2. 3. 4. 5. 6.]]]\n"
     ]
    }
   ],
   "source": [
    "# specify the number of dimensions\n",
    "arr3 = np.array([1, 2, 3, 4, 5, 6], ndmin=3)\n",
    "print(arr3)\n",
    "\n",
    "# specify the data type\n",
    "arr_float = np.array(arr3, dtype=float)\n",
    "print(arr_float)"
   ]
  },
  {
   "cell_type": "code",
   "execution_count": 20,
   "metadata": {},
   "outputs": [
    {
     "name": "stdout",
     "output_type": "stream",
     "text": [
      "[False  True False  True]\n"
     ]
    }
   ],
   "source": [
    "# activity\n",
    "arr_bool = np.array([0,1,0,1], dtype=bool)\n",
    "print(arr_bool)"
   ]
  },
  {
   "cell_type": "code",
   "execution_count": 21,
   "metadata": {},
   "outputs": [
    {
     "name": "stdout",
     "output_type": "stream",
     "text": [
      "[[[1 2 3 4 5 6]]]\n",
      "(1, 1, 6)\n"
     ]
    }
   ],
   "source": [
    "# get the array dimensions\n",
    "print(arr3)\n",
    "print(arr3.shape)"
   ]
  },
  {
   "cell_type": "code",
   "execution_count": 22,
   "metadata": {},
   "outputs": [
    {
     "name": "stdout",
     "output_type": "stream",
     "text": [
      "[[1 2]\n",
      " [3 4]]\n",
      "(2, 2) \n",
      "\n",
      "[[1]\n",
      " [2]\n",
      " [3]\n",
      " [4]]\n",
      "(4, 1)\n"
     ]
    }
   ],
   "source": [
    "#resize an array using the .shape attribute\n",
    "arr4 = np.array(arr2)\n",
    "print(arr4)\n",
    "print(arr4.shape, '\\n')\n",
    "\n",
    "arr4.shape = (4,1)\n",
    "print(arr4)\n",
    "print(arr4.shape)"
   ]
  },
  {
   "cell_type": "code",
   "execution_count": 27,
   "metadata": {},
   "outputs": [
    {
     "name": "stdout",
     "output_type": "stream",
     "text": [
      "[[1]\n",
      " [2]\n",
      " [3]\n",
      " [4]]\n"
     ]
    }
   ],
   "source": [
    "# reshape activity\n",
    "arr5 = arr2.reshape(4,1)\n",
    "print(arr5)"
   ]
  },
  {
   "cell_type": "code",
   "execution_count": 28,
   "metadata": {},
   "outputs": [
    {
     "name": "stdout",
     "output_type": "stream",
     "text": [
      "[0 1 2]\n"
     ]
    }
   ],
   "source": [
    "# np.arange test\n",
    "nump1 = np.arange(3)\n",
    "print(nump1)"
   ]
  },
  {
   "cell_type": "code",
   "execution_count": 29,
   "metadata": {},
   "outputs": [
    {
     "name": "stdout",
     "output_type": "stream",
     "text": [
      "[5 6 7 8 9]\n"
     ]
    }
   ],
   "source": [
    "nump2 = np.arange(5,10)\n",
    "print(nump2)"
   ]
  },
  {
   "cell_type": "code",
   "execution_count": 30,
   "metadata": {},
   "outputs": [
    {
     "name": "stdout",
     "output_type": "stream",
     "text": [
      "[ 0.   2.5  5.   7.5 10. ]\n"
     ]
    }
   ],
   "source": [
    "# np.linspace test\n",
    "nump3 = np.linspace(0,10, num=5)\n",
    "print(nump3)"
   ]
  },
  {
   "cell_type": "code",
   "execution_count": 36,
   "metadata": {},
   "outputs": [
    {
     "name": "stdout",
     "output_type": "stream",
     "text": [
      "(array([  0.        ,   5.26315789,  10.52631579,  15.78947368,\n",
      "        21.05263158,  26.31578947,  31.57894737,  36.84210526,\n",
      "        42.10526316,  47.36842105,  52.63157895,  57.89473684,\n",
      "        63.15789474,  68.42105263,  73.68421053,  78.94736842,\n",
      "        84.21052632,  89.47368421,  94.73684211, 100.        ]), 5.2631578947368425)\n"
     ]
    }
   ],
   "source": [
    "nump4 = np.linspace(0,100, num=20, retstep=True)\n",
    "print(nump4)"
   ]
  },
  {
   "cell_type": "code",
   "execution_count": 38,
   "metadata": {},
   "outputs": [
    {
     "name": "stdout",
     "output_type": "stream",
     "text": [
      "[1 2 3]\n"
     ]
    }
   ],
   "source": [
    "# np.asarray test\n",
    "a = [1, 2, 3]\n",
    "nump5 = np.asarray(a)\n",
    "print(nump5)"
   ]
  },
  {
   "cell_type": "code",
   "execution_count": null,
   "metadata": {},
   "outputs": [],
   "source": [
    "#Activities\n",
    "x = np.arange(1,20)\n",
    "print(x)\n",
    "\n",
    "y = np.linspace(1,20)\n",
    "print(y)"
   ]
  },
  {
   "cell_type": "markdown",
   "metadata": {},
   "source": [
    " y has a longer length than x because of the difference in step size between the two, \n",
    " with no step value given it will default to produce 50 numbers to get to stop value"
   ]
  },
  {
   "cell_type": "code",
   "execution_count": 40,
   "metadata": {},
   "outputs": [
    {
     "name": "stdout",
     "output_type": "stream",
     "text": [
      "[ 1  2  3  4  5  6  7  8  9 10 11 12 13 14 15 16 17 18 19]\n",
      "[ 1.          1.3877551   1.7755102   2.16326531  2.55102041  2.93877551\n",
      "  3.32653061  3.71428571  4.10204082  4.48979592  4.87755102  5.26530612\n",
      "  5.65306122  6.04081633  6.42857143  6.81632653  7.20408163  7.59183673\n",
      "  7.97959184  8.36734694  8.75510204  9.14285714  9.53061224  9.91836735\n",
      " 10.30612245 10.69387755 11.08163265 11.46938776 11.85714286 12.24489796\n",
      " 12.63265306 13.02040816 13.40816327 13.79591837 14.18367347 14.57142857\n",
      " 14.95918367 15.34693878 15.73469388 16.12244898 16.51020408 16.89795918\n",
      " 17.28571429 17.67346939 18.06122449 18.44897959 18.83673469 19.2244898\n",
      " 19.6122449  20.        ]\n",
      "[ 0 10 20 30]\n"
     ]
    }
   ],
   "source": [
    "xnum = [0, 10, 20, 30]\n",
    "xnum_arr = np.asarray(xnum)\n",
    "print(xnum_arr)"
   ]
  },
  {
   "cell_type": "code",
   "execution_count": 43,
   "metadata": {},
   "outputs": [
    {
     "name": "stdout",
     "output_type": "stream",
     "text": [
      "[ 5  7  9 11 13 15 17 19 21 23 25 27 29]\n",
      "[ 5  7  9 11 13]\n",
      "[ 9 11 13]\n",
      "[19 21 23 25 27 29]\n",
      "[29 27 25 23 21 19 17 15 13 11  9  7  5]\n"
     ]
    }
   ],
   "source": [
    "# slices\n",
    "# the 0 value will be 5\n",
    "d = np.arange(5,30, 2)\n",
    "print(d)\n",
    "print(d[:5])\n",
    "print(d[2:5])\n",
    "print(d[7:])\n",
    "print(d[::-1])\n",
    "# the -1 step value reverses the list"
   ]
  },
  {
   "cell_type": "code",
   "execution_count": 45,
   "metadata": {},
   "outputs": [
    {
     "name": "stdout",
     "output_type": "stream",
     "text": [
      "[ 9 18 27 36 10 20 30 40]\n",
      "[ 9 18 27 36 10 20 30 40  7 14 21 28]\n",
      "[[ 9 18 27 36]\n",
      " [10 20 30 40]\n",
      " [ 7 14 21 28]]\n",
      "[ 9 18 27 36 10 20 30 40  7 14 21 28]\n"
     ]
    }
   ],
   "source": [
    "#combining arrays\n",
    "m = np.array([9, 18, 27, 36])\n",
    "n = np.array([10, 20, 30, 40])\n",
    "o = np.array([7, 14, 21, 28])\n",
    "\n",
    "print(np.concatenate([m,n]))\n",
    "print(np.concatenate([m,n,o]))\n",
    "\n",
    "print(np.vstack([m,n,o]))\n",
    "print(np.hstack([m,n,o]))"
   ]
  },
  {
   "cell_type": "code",
   "execution_count": 46,
   "metadata": {},
   "outputs": [
    {
     "name": "stdout",
     "output_type": "stream",
     "text": [
      "r = [0 1 2 3 4 5 6 7]\n",
      "r + 10 = [10 11 12 13 14 15 16 17]\n",
      "r / 2 = [0.  0.5 1.  1.5 2.  2.5 3.  3.5]\n"
     ]
    }
   ],
   "source": [
    "#mathmatetical operations\n",
    "r = np.arange(8)\n",
    "print(\"r =\", r)\n",
    "print(\"r + 10 =\", r + 10)\n",
    "print(\"r / 2 =\", r / 2)"
   ]
  },
  {
   "cell_type": "code",
   "execution_count": 50,
   "metadata": {},
   "outputs": [
    {
     "name": "stdout",
     "output_type": "stream",
     "text": [
      "[0.  0.5 1.  1.5 2.  2.5 3.  3.5]\n",
      "1.11 µs ± 14.1 ns per loop (mean ± std. dev. of 7 runs, 1000000 loops each)\n",
      "100\n",
      "8.62 µs ± 34.1 ns per loop (mean ± std. dev. of 7 runs, 100000 loops each)\n",
      "100\n"
     ]
    }
   ],
   "source": [
    "#more mathematical operations\n",
    "s = np.arange(100)\n",
    "def div_by_2(array):\n",
    "    v = np.empty(len(array))\n",
    "    for i in range(len(array)):\n",
    "        v[i] = i / 2\n",
    "    return v\n",
    "r2 = div_by_2(r)\n",
    "print(r2)\n",
    "\n",
    "%timeit s2_numpy = s / 2\n",
    "print(len(s2_numpy))\n",
    "\n",
    "%timeit s2_loop = div_by_2(s)\n",
    "print(len(s2_loop))"
   ]
  },
  {
   "cell_type": "code",
   "execution_count": 52,
   "metadata": {},
   "outputs": [
    {
     "name": "stdout",
     "output_type": "stream",
     "text": [
      "518.2345047491547\n",
      "(0.001037745918676003, 0.9986697794947226)\n"
     ]
    }
   ],
   "source": [
    "#summary statistics\n",
    "\n",
    "t = np.random.random(1000)\n",
    "t_range = (t.min(), t.max())\n",
    "print(np.sum(t))\n",
    "print(t_range)"
   ]
  },
  {
   "cell_type": "code",
   "execution_count": 54,
   "metadata": {},
   "outputs": [
    {
     "name": "stdout",
     "output_type": "stream",
     "text": [
      "[[0.56031962 0.69338188 0.3906321  0.67948986]\n",
      " [0.86035625 0.36027877 0.42489407 0.82421246]\n",
      " [0.33232315 0.25231443 0.71584139 0.3217388 ]]\n",
      "[1.75299902 1.30597508 1.53136756 1.82544112]\n",
      "[2.32382346 2.46974155 1.62221777]\n"
     ]
    }
   ],
   "source": [
    "u = np.random.random((3,4))\n",
    "print(u)\n",
    "print(u.sum(axis=0)) #sums the numbers in columns\n",
    "print(u.sum(axis=1)) #sums the numbers in rows"
   ]
  },
  {
   "cell_type": "code",
   "execution_count": 68,
   "metadata": {},
   "outputs": [
    {
     "name": "stdout",
     "output_type": "stream",
     "text": [
      "[7 8 6 6 5 3 5 6 7 1 4 5 6 2 9 8 6 4 2 6 7 6 5 9 1 7 5 2 1 9 3 4 7 4 2 7 7\n",
      " 8 6 5 8 4 3 6 3 5 1 4 5 5 3 3 2 8 1 5 1 8 9 8 4 9 1 4 9 3 6 5 7 3 4 7 4 8\n",
      " 8 1 2 5 7 2 9 2 3 1 2 5 1 4 1 6 8 4 1 9 9 9 1 7 7 6]\n",
      "Mean = 4.97\n",
      "Median = 5.0\n",
      "Standard Deviation = 2.543442548987494\n",
      "Variance = 6.4691\n"
     ]
    }
   ],
   "source": [
    "#random activity\n",
    "rand = np.random.randint(1,10, size=100)\n",
    "rand1 = np.mean(rand)\n",
    "rand2 = np.median(rand)\n",
    "rand3 = np.std(rand)\n",
    "rand4 = np.var(rand)\n",
    "print(rand)\n",
    "print(\"Mean =\", rand1)\n",
    "print(\"Median =\", rand2)\n",
    "print(\"Standard Deviation =\", rand3)\n",
    "print(\"Variance =\", rand4)"
   ]
  },
  {
   "cell_type": "code",
   "execution_count": null,
   "metadata": {},
   "outputs": [],
   "source": []
  }
 ],
 "metadata": {
  "kernelspec": {
   "display_name": "Python 3",
   "language": "python",
   "name": "python3"
  },
  "language_info": {
   "codemirror_mode": {
    "name": "ipython",
    "version": 3
   },
   "file_extension": ".py",
   "mimetype": "text/x-python",
   "name": "python",
   "nbconvert_exporter": "python",
   "pygments_lexer": "ipython3",
   "version": "3.6.5"
  }
 },
 "nbformat": 4,
 "nbformat_minor": 2
}
