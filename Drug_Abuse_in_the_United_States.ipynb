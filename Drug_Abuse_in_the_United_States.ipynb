{
 "cells": [
  {
   "cell_type": "markdown",
   "metadata": {},
   "source": [
    "## Drug Use By State\n",
    "\n",
    "Alexander MacLeod\n",
    "June 5th, 2018"
   ]
  },
  {
   "cell_type": "markdown",
   "metadata": {},
   "source": [
    "# Background\n",
    "The topic for my project is drug abuse of specific substances like marijuana, heroin, and cocaine in America.\n",
    "\n",
    "I aim to find if states with high use of one drug also report high use of other substances which could potentially show a correlation between the use of one drug leading to the use of another.\n",
    "\n",
    "To figure out if there is a correlation I will compare reported use of each substance by state and then by regions in the country to see if there is a correlation between the use of one substance increasing or decreasing the use of another substance.\n",
    "\n",
    "The dataset used is from a national survey that reports the amount of estimated users of marijuana, heroin, and cocaine in each state. "
   ]
  },
  {
   "cell_type": "markdown",
   "metadata": {},
   "source": [
    "# Data\n",
    "I am interested in comparing the relationship between variables to see if there are correlations between the use of one drug and increased use of others within a state, region, or age demographic.\n"
   ]
  },
  {
   "cell_type": "code",
   "execution_count": 102,
   "metadata": {
    "scrolled": true
   },
   "outputs": [
    {
     "name": "stdout",
     "output_type": "stream",
     "text": [
      "Estimated Marijuana Use Statistics\n",
      "All Data is in thousands\n",
      "Observations: 50\n",
      "Mean use by age: \n",
      " Mari_12_17     63.28\n",
      "Mari_18_25    221.24\n",
      "Mari_26up     419.42\n",
      "dtype: float64\n",
      "Standard Deviation: \n",
      " Mari_12_17     75.327866\n",
      "Mari_18_25    255.811678\n",
      "Mari_26up     507.809666\n",
      "dtype: float64\n",
      "The Highest Amount of Use per Age Group: \n",
      " Mari_12_17     431\n",
      "Mari_18_25    1459\n",
      "Mari_26up     3046\n",
      "dtype: int64\n",
      "State with Highest Use for Ages 12-17 9    CA\n",
      "Name: State, dtype: object\n",
      "State with Highest Use for Ages 18-25: 9    CA\n",
      "Name: State, dtype: object\n",
      "State with Highest Use for Ages 26+: 9    CA\n",
      "Name: State, dtype: object\n",
      "The Lowest Amount of Use per Age Group: \n",
      " Mari_12_17     5\n",
      "Mari_18_25    17\n",
      "Mari_26up     27\n",
      "dtype: int64\n",
      "State with Lowest Use for Ages 12-17: 13    DC\n",
      "Name: State, dtype: object\n",
      "State with Lowest Use for Ages 18-25: 55    WY\n",
      "Name: State, dtype: object\n",
      "State with Lowest Use for Ages 26+: 39    ND\n",
      "Name: State, dtype: object\n"
     ]
    }
   ],
   "source": [
    "import pandas as pd\n",
    "import numpy as np\n",
    "import matplotlib as mpl\n",
    "import matplotlib.pyplot as pit\n",
    "import statsmodels.formula.api as smf\n",
    "%matplotlib inline\n",
    "\n",
    "#Different data frames\n",
    "df = pd.read_csv(\"new_survey_drug_use.csv\")\n",
    "df2 = df.iloc[6:]\n",
    "df3 = df.iloc[1:5]\n",
    "#print(df.loc[:, \"Mar_12_17\": \"Mari_26up\"])\n",
    "#marmean = np.mean(df[:, \"Mar_12_17\": \"Mari_26up\"])\n",
    "\n",
    "#Marijuana Statistics\n",
    "mar = df.iloc[6:, 1: 4]\n",
    "mar_max_value = np.max(mar)\n",
    "mar_min_value = np.min(mar)    \n",
    "mar_min_state1 = mar.index[mar[\"Mari_12_17\"] == np.min(mar[\"Mari_12_17\"])]\n",
    "mar_min_state2 = mar.index[mar[\"Mari_18_25\"] == np.min(mar[\"Mari_18_25\"])]\n",
    "mar_min_state3 = mar.index[mar[\"Mari_26up\"] == np.min(mar[\"Mari_26up\"])]\n",
    "mar_statemin1 = df.loc[mar_min_state1,\"State\"]\n",
    "mar_statemin2 = df.loc[mar_min_state2, \"State\"]\n",
    "mar_statemin3 = df.loc[mar_min_state3, \"State\"]\n",
    "mar_max_state1 = mar.index[mar[\"Mari_12_17\"] == np.max(mar[\"Mari_12_17\"])]\n",
    "mar_max_state2 = mar.index[mar[\"Mari_18_25\"] == np.max(mar[\"Mari_18_25\"])]\n",
    "mar_max_state3 = mar.index[mar[\"Mari_26up\"] == np.max(mar[\"Mari_26up\"])]\n",
    "mar_statemax1 = df.loc[mar_max_state1, \"State\"]\n",
    "mar_statemax2 = df.loc[mar_max_state2, \"State\"]\n",
    "mar_statemax3 = df.loc[mar_max_state3, \"State\"]\n",
    "print(\"Estimated Marijuana Use Statistics\")\n",
    "print(\"All Data is in thousands\")\n",
    "print(\"Observations:\", len(mar))\n",
    "print(\"Mean use by age:\", \"\\n\", mar.mean())\n",
    "print(\"Standard Deviation:\", \"\\n\", mar.std())\n",
    "print(\"The Highest Amount of Use per Age Group:\", \"\\n\",mar_max_value)\n",
    "print(\"State with Highest Use for Ages 12-17\", mar_statemax1)\n",
    "print(\"State with Highest Use for Ages 18-25:\", mar_statemax2)\n",
    "print(\"State with Highest Use for Ages 26+:\", mar_statemax3)\n",
    "print(\"The Lowest Amount of Use per Age Group:\", \"\\n\",mar_min_value)\n",
    "print(\"State with Lowest Use for Ages 12-17:\", mar_statemin1)\n",
    "print(\"State with Lowest Use for Ages 18-25:\", mar_statemin2)\n",
    "print(\"State with Lowest Use for Ages 26+:\", mar_statemin3)"
   ]
  },
  {
   "cell_type": "code",
   "execution_count": 94,
   "metadata": {},
   "outputs": [
    {
     "name": "stdout",
     "output_type": "stream",
     "text": [
      "Estimated Cocaine Use Statistics\n",
      "All Data is in thousands\n",
      "Observations: 50\n",
      "Mean Use by Age: \n",
      " Coca_12_17     3.12\n",
      "Coca_18_25    34.36\n",
      "Coca_26up     55.20\n",
      "dtype: float64\n",
      "Standard Deviation: \n",
      " Coca_12_17     4.714892\n",
      "Coca_18_25    45.127375\n",
      "Coca_26up     73.309242\n",
      "dtype: float64\n",
      "The Highest Amount of Use per Age Group: \n",
      " Coca_12_17     29\n",
      "Coca_18_25    263\n",
      "Coca_26up     407\n",
      "dtype: int64\n",
      "State with Highest Use for Ages 12-17 9    CA\n",
      "Name: State, dtype: object\n",
      "State with Highest Use for Ages 18-25: 9    CA\n",
      "Name: State, dtype: object\n",
      "State with Highest Use for Ages 26+: 9    CA\n",
      "Name: State, dtype: object\n",
      "The Lowest Amount of Use per Age Group: \n",
      " Coca_12_17    0\n",
      "Coca_18_25    2\n",
      "Coca_26up     3\n",
      "dtype: int64\n",
      "States with Lowest Use for Ages 12-17: \n",
      " 6     AK\n",
      "12    DE\n",
      "13    DC\n",
      "31    MT\n",
      "39    ND\n",
      "46    SD\n",
      "50    VT\n",
      "55    WY\n",
      "Name: State, dtype: object\n",
      "State with Lowest Use for Ages 18-25: 55    WY\n",
      "Name: State, dtype: object\n",
      "State with Lowest Use for Ages 26+: 39    ND\n",
      "55    WY\n",
      "Name: State, dtype: object\n"
     ]
    }
   ],
   "source": [
    "#Cocaine Statistics\n",
    "coca = df.iloc[6:, 6: 9]\n",
    "coca_max_value = np.max(coca)\n",
    "coca_min_value = np.min(coca)    \n",
    "coca_min_state1 = coca.index[coca[\"Coca_12_17\"] == np.min(coca[\"Coca_12_17\"])]\n",
    "coca_min_state2 = mar.index[coca[\"Coca_18_25\"] == np.min(coca[\"Coca_18_25\"])]\n",
    "coca_min_state3 = mar.index[coca[\"Coca_26up\"] == np.min(coca[\"Coca_26up\"])]\n",
    "coca_statemin1 = df.loc[coca_min_state1,\"State\"]\n",
    "coca_statemin2 = df.loc[coca_min_state2, \"State\"]\n",
    "coca_statemin3 = df.loc[coca_min_state3, \"State\"]\n",
    "coca_max_state1 = coca.index[coca[\"Coca_12_17\"] == np.max(coca[\"Coca_12_17\"])]\n",
    "coca_max_state2 = coca.index[coca[\"Coca_18_25\"] == np.max(coca[\"Coca_18_25\"])]\n",
    "coca_max_state3 = coca.index[coca[\"Coca_26up\"] == np.max(coca[\"Coca_26up\"])]\n",
    "coca_statemax1 = df.loc[coca_max_state1, \"State\"]\n",
    "coca_statemax2 = df.loc[coca_max_state2, \"State\"]\n",
    "coca_statemax3 = df.loc[coca_max_state3, \"State\"]\n",
    "print(\"Estimated Cocaine Use Statistics\")\n",
    "print(\"All Data is in thousands\")\n",
    "print(\"Observations:\", len(coca))\n",
    "print(\"Mean Use by Age:\", \"\\n\", coca.mean())\n",
    "print(\"Standard Deviation:\", \"\\n\", coca.std())\n",
    "print(\"The Highest Amount of Use per Age Group:\", \"\\n\",coca_max_value)\n",
    "print(\"State with Highest Use for Ages 12-17\", coca_statemax1)\n",
    "print(\"State with Highest Use for Ages 18-25:\", coca_statemax2)\n",
    "print(\"State with Highest Use for Ages 26+:\", coca_statemax3)\n",
    "print(\"The Lowest Amount of Use per Age Group:\", \"\\n\",coca_min_value)\n",
    "print(\"States with Lowest Use for Ages 12-17:\", \"\\n\", coca_statemin1)\n",
    "print(\"State with Lowest Use for Ages 18-25:\", coca_statemin2)\n",
    "print(\"State with Lowest Use for Ages 26+:\", coca_statemin3)"
   ]
  },
  {
   "cell_type": "code",
   "execution_count": 95,
   "metadata": {},
   "outputs": [
    {
     "name": "stdout",
     "output_type": "stream",
     "text": [
      "Estimated Heroin Use Statistics\n",
      "All Data is in thousands\n",
      "Observations: 50\n",
      "Mean Use by Age: \n",
      " Hero_12_17     0.40\n",
      "Hero_18_25     4.80\n",
      "Hero_26up     11.92\n",
      "dtype: float64\n",
      "Standard Deviation: \n",
      " Hero_12_17     0.638877\n",
      "Hero_18_25     4.936329\n",
      "Hero_26up     13.565924\n",
      "dtype: float64\n",
      "The Highest Amount of Use per Age Group: \n",
      " Hero_12_17     3\n",
      "Hero_18_25    24\n",
      "Hero_26up     68\n",
      "dtype: int64\n",
      "State with Highest Use for Ages 12-17 9    CA\n",
      "Name: State, dtype: object\n",
      "State with Highest Use for Ages 18-25: 9    CA\n",
      "Name: State, dtype: object\n",
      "State with Highest Use for Ages 26+: 37    NY\n",
      "Name: State, dtype: object\n",
      "The Lowest Amount of Use per Age Group: \n",
      " Hero_12_17    0\n",
      "Hero_18_25    0\n",
      "Hero_26up     1\n",
      "dtype: int64\n",
      "States with Lowest Use for Ages 12-17: \n",
      " 6     AK\n",
      "8     AR\n",
      "11    CT\n",
      "12    DE\n",
      "13    DC\n",
      "15    GA\n",
      "16    HI\n",
      "17    ID\n",
      "20    IA\n",
      "21    KS\n",
      "23    LA\n",
      "24    ME\n",
      "26    MA\n",
      "28    MN\n",
      "29    MS\n",
      "30    MO\n",
      "31    MT\n",
      "32    NE\n",
      "33    NV\n",
      "34    NH\n",
      "36    NM\n",
      "38    NC\n",
      "39    ND\n",
      "41    OK\n",
      "42    OR\n",
      "44    RI\n",
      "45    SC\n",
      "46    SD\n",
      "47    TN\n",
      "49    UT\n",
      "50    VT\n",
      "53    WV\n",
      "55    WY\n",
      "Name: State, dtype: object\n",
      "State with Lowest Use for Ages 18-25: 13    DC\n",
      "39    ND\n",
      "55    WY\n",
      "Name: State, dtype: object\n",
      "State with Lowest Use for Ages 26+: 31    MT\n",
      "39    ND\n",
      "46    SD\n",
      "55    WY\n",
      "Name: State, dtype: object\n"
     ]
    }
   ],
   "source": [
    "#Heroin Statistics\n",
    "hero = df.iloc[6:, 11: 14]\n",
    "hero_max_value = np.max(hero)\n",
    "hero_min_value = np.min(hero)    \n",
    "hero_min_state1 = hero.index[hero[\"Hero_12_17\"] == np.min(hero[\"Hero_12_17\"])]\n",
    "hero_min_state2 = mar.index[hero[\"Hero_18_25\"] == np.min(hero[\"Hero_18_25\"])]\n",
    "hero_min_state3 = mar.index[hero[\"Hero_26up\"] == np.min(hero[\"Hero_26up\"])]\n",
    "hero_statemin1 = df.loc[hero_min_state1,\"State\"]\n",
    "hero_statemin2 = df.loc[hero_min_state2, \"State\"]\n",
    "hero_statemin3 = df.loc[hero_min_state3, \"State\"]\n",
    "hero_max_state1 = hero.index[hero[\"Hero_12_17\"] == np.max(hero[\"Hero_12_17\"])]\n",
    "hero_max_state2 = hero.index[hero[\"Hero_18_25\"] == np.max(hero[\"Hero_18_25\"])]\n",
    "hero_max_state3 = hero.index[hero[\"Hero_26up\"] == np.max(hero[\"Hero_26up\"])]\n",
    "hero_statemax1 = df.loc[hero_max_state1, \"State\"]\n",
    "hero_statemax2 = df.loc[hero_max_state2, \"State\"]\n",
    "hero_statemax3 = df.loc[hero_max_state3, \"State\"]\n",
    "print(\"Estimated Heroin Use Statistics\")\n",
    "print(\"All Data is in thousands\")\n",
    "print(\"Observations:\", len(hero))\n",
    "print(\"Mean Use by Age:\", \"\\n\", hero.mean())\n",
    "print(\"Standard Deviation:\", \"\\n\", hero.std())\n",
    "print(\"The Highest Amount of Use per Age Group:\", \"\\n\",hero_max_value)\n",
    "print(\"State with Highest Use for Ages 12-17\", hero_statemax1)\n",
    "print(\"State with Highest Use for Ages 18-25:\", hero_statemax2)\n",
    "print(\"State with Highest Use for Ages 26+:\", hero_statemax3)\n",
    "print(\"The Lowest Amount of Use per Age Group:\", \"\\n\",hero_min_value)\n",
    "print(\"States with Lowest Use for Ages 12-17:\", \"\\n\", hero_statemin1)\n",
    "print(\"State with Lowest Use for Ages 18-25:\", hero_statemin2)\n",
    "print(\"State with Lowest Use for Ages 26+:\", hero_statemin3)"
   ]
  },
  {
   "cell_type": "code",
   "execution_count": 98,
   "metadata": {},
   "outputs": [
    {
     "data": {
      "image/png": "[encoded data removed]",
      "text/plain": [
       "<Figure size 432x288 with 1 Axes>"
      ]
     },
     "metadata": {},
     "output_type": "display_data"
    }
   ],
   "source": [
    "#Scatterplot comparing marijuana and cocaine use\n",
    "all_scat1 = pit.figure()\n",
    "pit.scatter(df2[\"Mari_12up\"], df2[\"Coca_12up\"])\n",
    "pit.title(\"State Marijuana Use vs. Cocaine Use (per thousand)\")\n",
    "pit.xlabel(\"Marijuana Users\")\n",
    "pit.ylabel(\"Cocaine Users\")\n",
    "\n",
    "x = np.linspace(0,5000, 100)\n",
    "y = -9.278 + 0.1449*x\n",
    "pit.plot(x,y, color=\"r\")\n",
    "pit.show()"
   ]
  },
  {
   "cell_type": "code",
   "execution_count": 97,
   "metadata": {},
   "outputs": [
    {
     "data": {
      "text/html": [
       "<table class=\"simpletable\">\n",
       "<caption>OLS Regression Results</caption>\n",
       "<tr>\n",
       "  <th>Dep. Variable:</th>        <td>Coca_12up</td>    <th>  R-squared:         </th> <td>   0.976</td>\n",
       "</tr>\n",
       "<tr>\n",
       "  <th>Model:</th>                   <td>OLS</td>       <th>  Adj. R-squared:    </th> <td>   0.975</td>\n",
       "</tr>\n",
       "<tr>\n",
       "  <th>Method:</th>             <td>Least Squares</td>  <th>  F-statistic:       </th> <td>   1930.</td>\n",
       "</tr>\n",
       "<tr>\n",
       "  <th>Date:</th>             <td>Wed, 06 Jun 2018</td> <th>  Prob (F-statistic):</th> <td>2.03e-40</td>\n",
       "</tr>\n",
       "<tr>\n",
       "  <th>Time:</th>                 <td>15:29:27</td>     <th>  Log-Likelihood:    </th> <td> -217.92</td>\n",
       "</tr>\n",
       "<tr>\n",
       "  <th>No. Observations:</th>      <td>    50</td>      <th>  AIC:               </th> <td>   439.8</td>\n",
       "</tr>\n",
       "<tr>\n",
       "  <th>Df Residuals:</th>          <td>    48</td>      <th>  BIC:               </th> <td>   443.7</td>\n",
       "</tr>\n",
       "<tr>\n",
       "  <th>Df Model:</th>              <td>     1</td>      <th>                     </th>     <td> </td>   \n",
       "</tr>\n",
       "<tr>\n",
       "  <th>Covariance Type:</th>      <td>nonrobust</td>    <th>                     </th>     <td> </td>   \n",
       "</tr>\n",
       "</table>\n",
       "<table class=\"simpletable\">\n",
       "<tr>\n",
       "      <td></td>         <th>coef</th>     <th>std err</th>      <th>t</th>      <th>P>|t|</th>  <th>[0.025</th>    <th>0.975]</th>  \n",
       "</tr>\n",
       "<tr>\n",
       "  <th>Intercept</th> <td>   -9.2378</td> <td>    3.583</td> <td>   -2.578</td> <td> 0.013</td> <td>  -16.442</td> <td>   -2.033</td>\n",
       "</tr>\n",
       "<tr>\n",
       "  <th>Mari_12up</th> <td>    0.1449</td> <td>    0.003</td> <td>   43.927</td> <td> 0.000</td> <td>    0.138</td> <td>    0.152</td>\n",
       "</tr>\n",
       "</table>\n",
       "<table class=\"simpletable\">\n",
       "<tr>\n",
       "  <th>Omnibus:</th>       <td>14.178</td> <th>  Durbin-Watson:     </th> <td>   1.703</td>\n",
       "</tr>\n",
       "<tr>\n",
       "  <th>Prob(Omnibus):</th> <td> 0.001</td> <th>  Jarque-Bera (JB):  </th> <td>  55.783</td>\n",
       "</tr>\n",
       "<tr>\n",
       "  <th>Skew:</th>          <td>-0.236</td> <th>  Prob(JB):          </th> <td>7.71e-13</td>\n",
       "</tr>\n",
       "<tr>\n",
       "  <th>Kurtosis:</th>      <td> 8.153</td> <th>  Cond. No.          </th> <td>1.43e+03</td>\n",
       "</tr>\n",
       "</table><br/><br/>Warnings:<br/>[1] Standard Errors assume that the covariance matrix of the errors is correctly specified.<br/>[2] The condition number is large, 1.43e+03. This might indicate that there are<br/>strong multicollinearity or other numerical problems."
      ],
      "text/plain": [
       "<class 'statsmodels.iolib.summary.Summary'>\n",
       "\"\"\"\n",
       "                            OLS Regression Results                            \n",
       "==============================================================================\n",
       "Dep. Variable:              Coca_12up   R-squared:                       0.976\n",
       "Model:                            OLS   Adj. R-squared:                  0.975\n",
       "Method:                 Least Squares   F-statistic:                     1930.\n",
       "Date:                Wed, 06 Jun 2018   Prob (F-statistic):           2.03e-40\n",
       "Time:                        15:29:27   Log-Likelihood:                -217.92\n",
       "No. Observations:                  50   AIC:                             439.8\n",
       "Df Residuals:                      48   BIC:                             443.7\n",
       "Df Model:                           1                                         \n",
       "Covariance Type:            nonrobust                                         \n",
       "==============================================================================\n",
       "                 coef    std err          t      P>|t|      [0.025      0.975]\n",
       "------------------------------------------------------------------------------\n",
       "Intercept     -9.2378      3.583     -2.578      0.013     -16.442      -2.033\n",
       "Mari_12up      0.1449      0.003     43.927      0.000       0.138       0.152\n",
       "==============================================================================\n",
       "Omnibus:                       14.178   Durbin-Watson:                   1.703\n",
       "Prob(Omnibus):                  0.001   Jarque-Bera (JB):               55.783\n",
       "Skew:                          -0.236   Prob(JB):                     7.71e-13\n",
       "Kurtosis:                       8.153   Cond. No.                     1.43e+03\n",
       "==============================================================================\n",
       "\n",
       "Warnings:\n",
       "[1] Standard Errors assume that the covariance matrix of the errors is correctly specified.\n",
       "[2] The condition number is large, 1.43e+03. This might indicate that there are\n",
       "strong multicollinearity or other numerical problems.\n",
       "\"\"\""
      ]
     },
     "execution_count": 97,
     "metadata": {},
     "output_type": "execute_result"
    }
   ],
   "source": [
    "#Model for graph\n",
    "mdl_info = df2[[\"Mari_12up\", \"Coca_12up\"]]\n",
    "#mdl_info.head()\n",
    "model = smf.ols(formula = \"Coca_12up ~ Mari_12up\", data=mdl_info)\n",
    "est = model.fit()\n",
    "est.summary()"
   ]
  },
  {
   "cell_type": "code",
   "execution_count": 99,
   "metadata": {},
   "outputs": [
    {
     "data": {
      "image/png": "[encoded data removed]",
      "text/plain": [
       "<Figure size 432x288 with 1 Axes>"
      ]
     },
     "metadata": {},
     "output_type": "display_data"
    }
   ],
   "source": [
    "#Scatterplot comparing drug use by region\n",
    "all_scat2 = pit.figure()\n",
    "pit.scatter(df3[\"State\"], df3[\"Mari_12up\"])\n",
    "pit.scatter(df3[\"State\"], df3[\"Coca_12up\"])\n",
    "pit.scatter(df3[\"State\"], df3[\"Hero_12up\"])\n",
    "pit.title(\"Estimated Use of Drugs per Region (in thousands)\")\n",
    "pit.xlabel(\"Region of Country\")\n",
    "pit.ylabel(\"Amount of Estimated Users\")\n",
    "pit.legend()\n",
    "pit.show()"
   ]
  },
  {
   "cell_type": "code",
   "execution_count": 100,
   "metadata": {},
   "outputs": [
    {
     "data": {
      "image/png": "[encoded data removed]",
      "text/plain": [
       "<Figure size 432x288 with 1 Axes>"
      ]
     },
     "metadata": {},
     "output_type": "display_data"
    },
    {
     "data": {
      "image/png": "[encoded data removed]",
      "text/plain": [
       "<Figure size 432x288 with 1 Axes>"
      ]
     },
     "metadata": {},
     "output_type": "display_data"
    },
    {
     "data": {
      "image/png": "[encoded data removed]",
      "text/plain": [
       "<Figure size 432x288 with 1 Axes>"
      ]
     },
     "metadata": {},
     "output_type": "display_data"
    }
   ],
   "source": [
    "#Histogram data for all three substances\n",
    "all_hist = pit.figure()\n",
    "pit.hist(df2[\"Mari_12up\"], bins=50)\n",
    "pit.title(\"Amount of States with Estimated Amounts of Marijuana Users (in thousands)\")\n",
    "pit.xlabel(\"Amount of Users\")\n",
    "pit.ylabel(\"Number of States\")\n",
    "pit.show()\n",
    "pit.hist(df2[\"Coca_12up\"], bins=50)\n",
    "pit.title(\"Amount of States with Estimated Amounts of Cocaine Users (in thousands)\")\n",
    "pit.xlabel(\"Amount of Users\")\n",
    "pit.ylabel(\"Number of States\")\n",
    "pit.show()\n",
    "pit.hist(df2[\"Hero_12up\"], bins=50)\n",
    "pit.title(\"Amount of States with Estimated Amounts of Heroin Users (in thousands)\")\n",
    "pit.xlabel(\"Amount of Users\")\n",
    "pit.ylabel(\"Number of States\")\n",
    "pit.show()"
   ]
  },
  {
   "cell_type": "markdown",
   "metadata": {},
   "source": [
    "# Analysis\n",
    "The hypothesis being tested is to see if there is a difference in use between marijuana and cocaine in each state.\n",
    "\n",
    "The null hypothesis would be that there is no difference in the amount of users of marijuana and cocaine in each state. The alternative hypothesis would be that there is a difference in the amount of users of marijuana and cocaine per state.\n",
    "\n",
    "(Insert text about test statistics and if you can reject null hypothesis with 95% confidence)\n",
    "\n",
    "The relationship being tested with linear regression is the correlation between increased use of marijuana leading to increased use of cocaine in states.\n",
    "\n",
    "The scatterplot created above does represent a linear relationship between the use of marijuana and the use of cocaine in states. Interpreting the intercept and slope can help to better understand the linear relationship modeled in the scatterplot. There is a negative intercept which stems from a lot of points being clustered around the origin. The slope produced represents the relationship between the use of marijuana and the use of cocaine. The slope was small and only came out to be 0.144 but it makes sense as there aren't drastic amounts of cocaine users in states, but there are significantly more cocaine users in states that also have a high amount of marijuana users."
   ]
  },
  {
   "cell_type": "markdown",
   "metadata": {},
   "source": [
    "# Conclusion\n",
    "Summarize what I've learned from the topic\n",
    "\n",
    "What was the most interesting part of the project\n",
    "\n",
    "What was the most challenging part of working with the dataset"
   ]
  },
  {
   "cell_type": "code",
   "execution_count": null,
   "metadata": {},
   "outputs": [],
   "source": []
  }
 ],
 "metadata": {
  "kernelspec": {
   "display_name": "Python 3",
   "language": "python",
   "name": "python3"
  },
  "language_info": {
   "codemirror_mode": {
    "name": "ipython",
    "version": 3
   },
   "file_extension": ".py",
   "mimetype": "text/x-python",
   "name": "python",
   "nbconvert_exporter": "python",
   "pygments_lexer": "ipython3",
   "version": "3.6.5"
  }
 },
 "nbformat": 4,
 "nbformat_minor": 2
}
