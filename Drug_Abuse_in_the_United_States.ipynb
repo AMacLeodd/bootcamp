{
 "cells": [
  {
   "cell_type": "markdown",
   "metadata": {},
   "source": [
    "## Drug Use By State\n",
    "\n",
    "Alexander MacLeod\n",
    "June 5th, 2018"
   ]
  },
  {
   "cell_type": "markdown",
   "metadata": {},
   "source": [
    "# Background\n",
    "The topic for my project is drug abuse of specific substances like marijuana, heroin, and cocaine in America.\n",
    "\n",
    "I aim to find if states with high use of one drug also report high use of other substances which could potentially show a correlation between the use of one drug leading to the use of another.\n",
    "\n",
    "To figure out if there is a correlation I will compare reported use of each substance by state and then by regions in the country to see if there are regions in the country with higher use of some substance than in other areas."
   ]
  },
  {
   "cell_type": "markdown",
   "metadata": {},
   "source": [
    "# Data\n",
    "I am interested in comparing the relationship between variables to see if there are correlations between the use of one drug and increased use of others within a state, region, or age demographic.\n"
   ]
  },
  {
   "cell_type": "code",
   "execution_count": 19,
   "metadata": {
    "scrolled": true
   },
   "outputs": [
    {
     "name": "stdout",
     "output_type": "stream",
     "text": [
      "Marijuana Mean use by age: Mari_12_17     62.764706\n",
      "Mari_18_25    219.627451\n",
      "Mari_26up     415.392157\n",
      "dtype: float64\n",
      "Marijuana Standard Deviation: Mari_12_17     74.661526\n",
      "Mari_18_25    253.502344\n",
      "Mari_26up     503.528195\n",
      "dtype: float64\n",
      "Observations: 51\n",
      "Mari_12_17     431\n",
      "Mari_18_25    1459\n",
      "Mari_26up     3046\n",
      "dtype: int64\n",
      "Mari_12_17     5\n",
      "Mari_18_25    17\n",
      "Mari_26up     27\n",
      "dtype: int64\n",
      "State with Lowest Value for Ages 12-17: 13    DC\n",
      "Name: State, dtype: object\n",
      "State with Lowest Value for Ages 18-25: 55    WY\n",
      "Name: State, dtype: object\n",
      "State with Lowest Value for Ages 26+: 39    ND\n",
      "Name: State, dtype: object\n"
     ]
    }
   ],
   "source": [
    "import pandas as pd\n",
    "import numpy as np\n",
    "import matplotlib as mpl\n",
    "import matplotlib.pyplot as pit\n",
    "\n",
    "df = pd.read_csv(\"new_survey_drug_use.csv\")\n",
    "df2 = df.iloc[5:]\n",
    "df3 = df.iloc[:5]\n",
    "#print(df.loc[:, \"Mar_12_17\": \"Mari_26up\"])\n",
    "#marmean = np.mean(df[:, \"Mar_12_17\": \"Mari_26up\"])\n",
    "\n",
    "mar = df.iloc[5:, 1: 4]\n",
    "print(\"Marijuana Mean use by age:\", mar.mean())\n",
    "print(\"Marijuana Standard Deviation:\", mar.std())\n",
    "print(\"Observations:\", len(mar))\n",
    "mar_max_value = np.max(mar)\n",
    "mar_min_value = np.min(mar)    \n",
    "mar_min_state1 = mar.index[mar[\"Mari_12_17\"] == np.min(mar[\"Mari_12_17\"])]\n",
    "mar_state1 = df.loc[mar_min_state1,\"State\"]\n",
    "mar_min_state2 = mar.index[mar[\"Mari_18_25\"] == np.min(mar[\"Mari_18_25\"])]\n",
    "mar_min_state3 = mar.index[mar[\"Mari_26up\"] == np.min(mar[\"Mari_26up\"])]\n",
    "mar_state2 = df.loc[mar_min_state2, \"State\"]\n",
    "mar_state3 = df.loc[mar_min_state3, \"State\"]\n",
    "print(mar_max_value)\n",
    "print(mar_min_value)\n",
    "print(\"State with Lowest Value for Ages 12-17:\", mar_state1)\n",
    "print(\"State with Lowest Value for Ages 18-25:\", mar_state2)\n",
    "print(\"State with Lowest Value for Ages 26+:\", mar_state3)\n"
   ]
  },
  {
   "cell_type": "code",
   "execution_count": 17,
   "metadata": {},
   "outputs": [
    {
     "data": {
      "image/png": "[encoded data removed]",
      "text/plain": [
       "<Figure size 432x288 with 1 Axes>"
      ]
     },
     "metadata": {},
     "output_type": "display_data"
    }
   ],
   "source": [
    "all_gra = pit.figure()\n",
    "pit.scatter(df2[\"State\"], df2[\"Mari_12up\"])\n",
    "pit.scatter(df2[\"State\"], df2[\"Coca_12up\"])\n",
    "pit.scatter(df2[\"State\"], df2[\"Hero_12up\"])\n",
    "pit.show()\n",
    "\n",
    "all_hist = pit.hist"
   ]
  },
  {
   "cell_type": "code",
   "execution_count": 21,
   "metadata": {},
   "outputs": [
    {
     "data": {
      "image/png": "[encoded data removed]",
      "text/plain": [
       "<Figure size 432x288 with 1 Axes>"
      ]
     },
     "metadata": {},
     "output_type": "display_data"
    }
   ],
   "source": [
    "all_gra3 = pit.figure()\n",
    "pit.scatter(df3[\"State\"], df3[\"Mari_12up\"])\n",
    "pit.scatter(df3[\"State\"], df3[\"Coca_12up\"])\n",
    "pit.scatter(df3[\"State\"], df3[\"Hero_12up\"])\n",
    "pit.show()"
   ]
  },
  {
   "cell_type": "code",
   "execution_count": null,
   "metadata": {},
   "outputs": [],
   "source": []
  }
 ],
 "metadata": {
  "kernelspec": {
   "display_name": "Python 3",
   "language": "python",
   "name": "python3"
  },
  "language_info": {
   "codemirror_mode": {
    "name": "ipython",
    "version": 3
   },
   "file_extension": ".py",
   "mimetype": "text/x-python",
   "name": "python",
   "nbconvert_exporter": "python",
   "pygments_lexer": "ipython3",
   "version": "3.6.5"
  }
 },
 "nbformat": 4,
 "nbformat_minor": 2
}
