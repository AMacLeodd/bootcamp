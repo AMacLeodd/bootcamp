{
 "cells": [
  {
   "cell_type": "code",
   "execution_count": 14,
   "metadata": {},
   "outputs": [],
   "source": [
    "import numpy as np\n",
    "import pandas as pd\n",
    "import matplotlib as mplt\n",
    "import matplotlib.pyplot as plt\n",
    "%matplotlib inline"
   ]
  },
  {
   "cell_type": "code",
   "execution_count": 8,
   "metadata": {},
   "outputs": [],
   "source": [
    "n_g = 60\n",
    "n_b = 50\n",
    "mean_g = 123.5\n",
    "mean_b = 126.2\n",
    "sd_g = np.sqrt(98)\n",
    "sd_b = np.sqrt(120)"
   ]
  },
  {
   "cell_type": "code",
   "execution_count": 10,
   "metadata": {},
   "outputs": [
    {
     "name": "stdout",
     "output_type": "stream",
     "text": [
      "Girls:\n",
      "Observations: 60\n",
      "Mean: 122.15687858523553\n",
      "Standard Deviation: 11.861059032099275\n",
      "Variance: 140.6847213629438\n",
      "\n",
      "Boys:\n",
      "Observations: 50\n",
      "Mean: 124.73501734931435\n",
      "Standard Deviation: 10.042589435902743\n",
      "Variance: 100.85360257810537\n"
     ]
    }
   ],
   "source": [
    "sample_ht_g = np.random.normal(loc=mean_g, scale=sd_g, size=n_g)\n",
    "print(\"Girls:\")\n",
    "print(\"Observations:\", len(sample_ht_g))\n",
    "print(\"Mean:\", np.mean (sample_ht_g))\n",
    "print(\"Standard Deviation:\", np.std(sample_ht_g))\n",
    "print(\"Variance:\", np.std(sample_ht_g)**2)\n",
    "print()\n",
    "sample_ht_b = np.random.normal(loc=mean_b, scale=sd_b, size=n_b)\n",
    "print(\"Boys:\")\n",
    "print(\"Observations:\", len(sample_ht_b))\n",
    "print(\"Mean:\", np.mean (sample_ht_b))\n",
    "print(\"Standard Deviation:\", np.std(sample_ht_b))\n",
    "print(\"Variance:\", np.std(sample_ht_b)**2)"
   ]
  },
  {
   "cell_type": "code",
   "execution_count": 11,
   "metadata": {},
   "outputs": [
    {
     "name": "stdout",
     "output_type": "stream",
     "text": [
      "Sample Difference: -2.700000000000003\n",
      "Expected Population Difference: 0\n",
      "Standard Error: 2.008316044185609\n"
     ]
    }
   ],
   "source": [
    "obs_diff = (mean_g - mean_b)\n",
    "exp_diff = 0\n",
    "std_error = np.sqrt(((sd_g**2)/n_g) + ((sd_b**2)/n_b))\n",
    "\n",
    "print(\"Sample Difference:\", obs_diff)\n",
    "print(\"Expected Population Difference:\", exp_diff)\n",
    "print(\"Standard Error:\", std_error)"
   ]
  },
  {
   "cell_type": "code",
   "execution_count": 13,
   "metadata": {},
   "outputs": [
    {
     "name": "stdout",
     "output_type": "stream",
     "text": [
      "Z-Value: -1.3444099138763181\n"
     ]
    }
   ],
   "source": [
    "z = (obs_diff - exp_diff) / std_error\n",
    "print(\"Z-Value:\", z)"
   ]
  },
  {
   "cell_type": "code",
   "execution_count": 2,
   "metadata": {},
   "outputs": [
    {
     "data": {
      "image/png": "[encoded data removed]",
      "text/plain": [
       "<Figure size 432x288 with 1 Axes>"
      ]
     },
     "metadata": {},
     "output_type": "display_data"
    }
   ],
   "source": [
    "stdn_data = np.random.randn(5000)\n",
    "stdn = plt.figure()\n",
    "plt.hist(stdn_data, bins=100)\n",
    "plt.axvline(x=-1.96, color = 'r')\n",
    "plt.axvline(x=1.96, color = 'r')\n",
    "plt.title(\"Standard Normal Distribution\")\n",
    "plt.show()"
   ]
  },
  {
   "cell_type": "code",
   "execution_count": 3,
   "metadata": {},
   "outputs": [
    {
     "data": {
      "text/html": [
       "<div>\n",
       "<style scoped>\n",
       "    .dataframe tbody tr th:only-of-type {\n",
       "        vertical-align: middle;\n",
       "    }\n",
       "\n",
       "    .dataframe tbody tr th {\n",
       "        vertical-align: top;\n",
       "    }\n",
       "\n",
       "    .dataframe thead th {\n",
       "        text-align: right;\n",
       "    }\n",
       "</style>\n",
       "<table border=\"1\" class=\"dataframe\">\n",
       "  <thead>\n",
       "    <tr style=\"text-align: right;\">\n",
       "      <th></th>\n",
       "      <th>fips</th>\n",
       "      <th>adult_pop</th>\n",
       "      <th>female_pop</th>\n",
       "      <th>male_pop</th>\n",
       "      <th>median_age</th>\n",
       "      <th>population</th>\n",
       "      <th>pct_poverty</th>\n",
       "      <th>median_income</th>\n",
       "      <th>pct_highschool</th>\n",
       "      <th>pct_unemployed</th>\n",
       "    </tr>\n",
       "  </thead>\n",
       "  <tbody>\n",
       "    <tr>\n",
       "      <th>0</th>\n",
       "      <td>1001</td>\n",
       "      <td>41890.0</td>\n",
       "      <td>28422.0</td>\n",
       "      <td>26994.0</td>\n",
       "      <td>38.6</td>\n",
       "      <td>55416.0</td>\n",
       "      <td>13.5</td>\n",
       "      <td>54487.0</td>\n",
       "      <td>87.6</td>\n",
       "      <td>3.4</td>\n",
       "    </tr>\n",
       "    <tr>\n",
       "      <th>1</th>\n",
       "      <td>1003</td>\n",
       "      <td>163233.0</td>\n",
       "      <td>107322.0</td>\n",
       "      <td>101241.0</td>\n",
       "      <td>42.9</td>\n",
       "      <td>208563.0</td>\n",
       "      <td>11.7</td>\n",
       "      <td>56460.0</td>\n",
       "      <td>90.0</td>\n",
       "      <td>3.7</td>\n",
       "    </tr>\n",
       "    <tr>\n",
       "      <th>2</th>\n",
       "      <td>1005</td>\n",
       "      <td>20477.0</td>\n",
       "      <td>12186.0</td>\n",
       "      <td>13779.0</td>\n",
       "      <td>40.1</td>\n",
       "      <td>25965.0</td>\n",
       "      <td>29.9</td>\n",
       "      <td>32884.0</td>\n",
       "      <td>73.8</td>\n",
       "      <td>6.2</td>\n",
       "    </tr>\n",
       "    <tr>\n",
       "      <th>3</th>\n",
       "      <td>1007</td>\n",
       "      <td>17944.0</td>\n",
       "      <td>10498.0</td>\n",
       "      <td>12145.0</td>\n",
       "      <td>39.6</td>\n",
       "      <td>22643.0</td>\n",
       "      <td>20.1</td>\n",
       "      <td>43079.0</td>\n",
       "      <td>80.7</td>\n",
       "      <td>3.5</td>\n",
       "    </tr>\n",
       "    <tr>\n",
       "      <th>4</th>\n",
       "      <td>1009</td>\n",
       "      <td>44322.0</td>\n",
       "      <td>29206.0</td>\n",
       "      <td>28498.0</td>\n",
       "      <td>41.1</td>\n",
       "      <td>57704.0</td>\n",
       "      <td>14.1</td>\n",
       "      <td>47213.0</td>\n",
       "      <td>80.0</td>\n",
       "      <td>3.0</td>\n",
       "    </tr>\n",
       "  </tbody>\n",
       "</table>\n",
       "</div>"
      ],
      "text/plain": [
       "   fips  adult_pop  female_pop  male_pop  median_age  population  pct_poverty  \\\n",
       "0  1001    41890.0     28422.0   26994.0        38.6     55416.0         13.5   \n",
       "1  1003   163233.0    107322.0  101241.0        42.9    208563.0         11.7   \n",
       "2  1005    20477.0     12186.0   13779.0        40.1     25965.0         29.9   \n",
       "3  1007    17944.0     10498.0   12145.0        39.6     22643.0         20.1   \n",
       "4  1009    44322.0     29206.0   28498.0        41.1     57704.0         14.1   \n",
       "\n",
       "   median_income  pct_highschool  pct_unemployed  \n",
       "0        54487.0            87.6             3.4  \n",
       "1        56460.0            90.0             3.7  \n",
       "2        32884.0            73.8             6.2  \n",
       "3        43079.0            80.7             3.5  \n",
       "4        47213.0            80.0             3.0  "
      ]
     },
     "execution_count": 3,
     "metadata": {},
     "output_type": "execute_result"
    }
   ],
   "source": [
    "import statsmodels.formula.api as smf\n",
    "\n",
    "demo = pd.read_csv(\"county_demographics_2016.csv\")\n",
    "demo.head()"
   ]
  },
  {
   "cell_type": "code",
   "execution_count": 4,
   "metadata": {},
   "outputs": [
    {
     "data": {
      "image/png": "[encoded data removed]",
      "text/plain": [
       "<Figure size 432x288 with 1 Axes>"
      ]
     },
     "metadata": {},
     "output_type": "display_data"
    }
   ],
   "source": [
    "inc_edu = plt.figure()\n",
    "plt.scatter(demo[\"pct_highschool\"], demo[\"median_income\"])\n",
    "plt.title(\"County-Level Income by Education\")\n",
    "plt.xlabel(\"Percent High School Graduates\")\n",
    "plt.ylabel(\"Median Income\")\n",
    "plt.show()"
   ]
  },
  {
   "cell_type": "code",
   "execution_count": 5,
   "metadata": {},
   "outputs": [
    {
     "data": {
      "image/png": "[encoded data removed]",
      "text/plain": [
       "<Figure size 432x288 with 1 Axes>"
      ]
     },
     "metadata": {},
     "output_type": "display_data"
    }
   ],
   "source": [
    "#Transforming the outcome variable\n",
    "fig_ln_inc = plt.figure()\n",
    "plt.scatter(demo[\"pct_highschool\"], np.log(demo[\"median_income\"]))\n",
    "plt.title('County-Level Income by Education')\n",
    "plt.xlabel(\"Percent High School Graduates\")\n",
    "plt.ylabel(\"Ln Median Income\")\n",
    "fig_ln_inc.savefig(\"fig_ln_inc.png\")\n",
    "\n",
    "x=np.linspace(50,100,100)\n",
    "y=8.8415 + 0.0226*x\n",
    "plt.plot(x,y, color = \"black\")\n",
    "plt.show()"
   ]
  },
  {
   "cell_type": "code",
   "execution_count": 6,
   "metadata": {},
   "outputs": [
    {
     "data": {
      "text/html": [
       "<div>\n",
       "<style scoped>\n",
       "    .dataframe tbody tr th:only-of-type {\n",
       "        vertical-align: middle;\n",
       "    }\n",
       "\n",
       "    .dataframe tbody tr th {\n",
       "        vertical-align: top;\n",
       "    }\n",
       "\n",
       "    .dataframe thead th {\n",
       "        text-align: right;\n",
       "    }\n",
       "</style>\n",
       "<table border=\"1\" class=\"dataframe\">\n",
       "  <thead>\n",
       "    <tr style=\"text-align: right;\">\n",
       "      <th></th>\n",
       "      <th>pct_highschool</th>\n",
       "      <th>median_income</th>\n",
       "    </tr>\n",
       "  </thead>\n",
       "  <tbody>\n",
       "    <tr>\n",
       "      <th>0</th>\n",
       "      <td>87.6</td>\n",
       "      <td>54487.0</td>\n",
       "    </tr>\n",
       "    <tr>\n",
       "      <th>1</th>\n",
       "      <td>90.0</td>\n",
       "      <td>56460.0</td>\n",
       "    </tr>\n",
       "    <tr>\n",
       "      <th>2</th>\n",
       "      <td>73.8</td>\n",
       "      <td>32884.0</td>\n",
       "    </tr>\n",
       "    <tr>\n",
       "      <th>3</th>\n",
       "      <td>80.7</td>\n",
       "      <td>43079.0</td>\n",
       "    </tr>\n",
       "    <tr>\n",
       "      <th>4</th>\n",
       "      <td>80.0</td>\n",
       "      <td>47213.0</td>\n",
       "    </tr>\n",
       "  </tbody>\n",
       "</table>\n",
       "</div>"
      ],
      "text/plain": [
       "   pct_highschool  median_income\n",
       "0            87.6        54487.0\n",
       "1            90.0        56460.0\n",
       "2            73.8        32884.0\n",
       "3            80.7        43079.0\n",
       "4            80.0        47213.0"
      ]
     },
     "execution_count": 6,
     "metadata": {},
     "output_type": "execute_result"
    }
   ],
   "source": [
    "demo = demo[[\"pct_highschool\", \"median_income\"]].dropna()\n",
    "demo.head()"
   ]
  },
  {
   "cell_type": "code",
   "execution_count": 7,
   "metadata": {},
   "outputs": [
    {
     "data": {
      "text/html": [
       "<table class=\"simpletable\">\n",
       "<caption>OLS Regression Results</caption>\n",
       "<tr>\n",
       "  <th>Dep. Variable:</th>    <td>np.log(median_income)</td> <th>  R-squared:         </th> <td>   0.371</td> \n",
       "</tr>\n",
       "<tr>\n",
       "  <th>Model:</th>                     <td>OLS</td>          <th>  Adj. R-squared:    </th> <td>   0.371</td> \n",
       "</tr>\n",
       "<tr>\n",
       "  <th>Method:</th>               <td>Least Squares</td>     <th>  F-statistic:       </th> <td>   1852.</td> \n",
       "</tr>\n",
       "<tr>\n",
       "  <th>Date:</th>               <td>Thu, 07 Jun 2018</td>    <th>  Prob (F-statistic):</th> <td>2.20e-318</td>\n",
       "</tr>\n",
       "<tr>\n",
       "  <th>Time:</th>                   <td>09:07:59</td>        <th>  Log-Likelihood:    </th> <td>  720.56</td> \n",
       "</tr>\n",
       "<tr>\n",
       "  <th>No. Observations:</th>        <td>  3140</td>         <th>  AIC:               </th> <td>  -1437.</td> \n",
       "</tr>\n",
       "<tr>\n",
       "  <th>Df Residuals:</th>            <td>  3138</td>         <th>  BIC:               </th> <td>  -1425.</td> \n",
       "</tr>\n",
       "<tr>\n",
       "  <th>Df Model:</th>                <td>     1</td>         <th>                     </th>     <td> </td>    \n",
       "</tr>\n",
       "<tr>\n",
       "  <th>Covariance Type:</th>        <td>nonrobust</td>       <th>                     </th>     <td> </td>    \n",
       "</tr>\n",
       "</table>\n",
       "<table class=\"simpletable\">\n",
       "<tr>\n",
       "         <td></td>           <th>coef</th>     <th>std err</th>      <th>t</th>      <th>P>|t|</th>  <th>[0.025</th>    <th>0.975]</th>  \n",
       "</tr>\n",
       "<tr>\n",
       "  <th>Intercept</th>      <td>    8.8415</td> <td>    0.045</td> <td>  195.703</td> <td> 0.000</td> <td>    8.753</td> <td>    8.930</td>\n",
       "</tr>\n",
       "<tr>\n",
       "  <th>pct_highschool</th> <td>    0.0226</td> <td>    0.001</td> <td>   43.031</td> <td> 0.000</td> <td>    0.022</td> <td>    0.024</td>\n",
       "</tr>\n",
       "</table>\n",
       "<table class=\"simpletable\">\n",
       "<tr>\n",
       "  <th>Omnibus:</th>       <td>310.224</td> <th>  Durbin-Watson:     </th> <td>   1.496</td>\n",
       "</tr>\n",
       "<tr>\n",
       "  <th>Prob(Omnibus):</th> <td> 0.000</td>  <th>  Jarque-Bera (JB):  </th> <td> 441.689</td>\n",
       "</tr>\n",
       "<tr>\n",
       "  <th>Skew:</th>          <td> 0.769</td>  <th>  Prob(JB):          </th> <td>1.23e-96</td>\n",
       "</tr>\n",
       "<tr>\n",
       "  <th>Kurtosis:</th>      <td> 4.006</td>  <th>  Cond. No.          </th> <td>1.13e+03</td>\n",
       "</tr>\n",
       "</table><br/><br/>Warnings:<br/>[1] Standard Errors assume that the covariance matrix of the errors is correctly specified.<br/>[2] The condition number is large, 1.13e+03. This might indicate that there are<br/>strong multicollinearity or other numerical problems."
      ],
      "text/plain": [
       "<class 'statsmodels.iolib.summary.Summary'>\n",
       "\"\"\"\n",
       "                              OLS Regression Results                             \n",
       "=================================================================================\n",
       "Dep. Variable:     np.log(median_income)   R-squared:                       0.371\n",
       "Model:                               OLS   Adj. R-squared:                  0.371\n",
       "Method:                    Least Squares   F-statistic:                     1852.\n",
       "Date:                   Thu, 07 Jun 2018   Prob (F-statistic):          2.20e-318\n",
       "Time:                           09:07:59   Log-Likelihood:                 720.56\n",
       "No. Observations:                   3140   AIC:                            -1437.\n",
       "Df Residuals:                       3138   BIC:                            -1425.\n",
       "Df Model:                              1                                         \n",
       "Covariance Type:               nonrobust                                         \n",
       "==================================================================================\n",
       "                     coef    std err          t      P>|t|      [0.025      0.975]\n",
       "----------------------------------------------------------------------------------\n",
       "Intercept          8.8415      0.045    195.703      0.000       8.753       8.930\n",
       "pct_highschool     0.0226      0.001     43.031      0.000       0.022       0.024\n",
       "==============================================================================\n",
       "Omnibus:                      310.224   Durbin-Watson:                   1.496\n",
       "Prob(Omnibus):                  0.000   Jarque-Bera (JB):              441.689\n",
       "Skew:                           0.769   Prob(JB):                     1.23e-96\n",
       "Kurtosis:                       4.006   Cond. No.                     1.13e+03\n",
       "==============================================================================\n",
       "\n",
       "Warnings:\n",
       "[1] Standard Errors assume that the covariance matrix of the errors is correctly specified.\n",
       "[2] The condition number is large, 1.13e+03. This might indicate that there are\n",
       "strong multicollinearity or other numerical problems.\n",
       "\"\"\""
      ]
     },
     "execution_count": 7,
     "metadata": {},
     "output_type": "execute_result"
    }
   ],
   "source": [
    "model = smf.ols(formula = \"np.log(median_income) ~ pct_highschool\", data=demo)\n",
    "est = model.fit()\n",
    "est.summary()"
   ]
  },
  {
   "cell_type": "code",
   "execution_count": null,
   "metadata": {},
   "outputs": [],
   "source": []
  },
  {
   "cell_type": "code",
   "execution_count": null,
   "metadata": {},
   "outputs": [],
   "source": []
  }
 ],
 "metadata": {
  "kernelspec": {
   "display_name": "Python 3",
   "language": "python",
   "name": "python3"
  },
  "language_info": {
   "codemirror_mode": {
    "name": "ipython",
    "version": 3
   },
   "file_extension": ".py",
   "mimetype": "text/x-python",
   "name": "python",
   "nbconvert_exporter": "python",
   "pygments_lexer": "ipython3",
   "version": "3.6.5"
  }
 },
 "nbformat": 4,
 "nbformat_minor": 2
}
